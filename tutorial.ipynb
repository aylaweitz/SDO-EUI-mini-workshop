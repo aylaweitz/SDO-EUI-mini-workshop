{
 "cells": [
  {
   "cell_type": "markdown",
   "id": "15bffbc2-2cc6-4efc-8f8e-d744ef6c5a37",
   "metadata": {},
   "source": [
    "# SDO/AIA and Solar Orbiter/EUI alignment tutorial\n",
    "\n",
    "In this tutorial, we will\n",
    "\n",
    "- Retrive HRI EUV 174 EUI data and AIA data using [Fido](https://docs.sunpy.org/en/stable/generated/api/sunpy.net.Fido.html#sunpy.net.Fido)\n",
    "- Correct for 'jitter' in EUI images\n",
    "- align aia/eui images in time (account for timing delay)\n",
    "- use wcs to align in space\n",
    "- for small scale, may need to apply additional correction\n",
    "\n",
    "---\n",
    "ideas\n",
    " - example of well-aligned with earth-sun line? and example when not well aligned?\n",
    "\n",
    "- do we want to align a single image or a time series?\n"
   ]
  },
  {
   "cell_type": "code",
   "execution_count": 1,
   "id": "98e7bb4a-2832-4fd2-bad2-70d217645835",
   "metadata": {},
   "outputs": [
    {
     "name": "stdout",
     "output_type": "stream",
     "text": [
      "Intel MKL WARNING: Support of Intel(R) Streaming SIMD Extensions 4.2 (Intel(R) SSE4.2) enabled only processors has been deprecated. Intel oneAPI Math Kernel Library 2025.0 will require Intel(R) Advanced Vector Extensions (Intel(R) AVX) instructions.\n",
      "Intel MKL WARNING: Support of Intel(R) Streaming SIMD Extensions 4.2 (Intel(R) SSE4.2) enabled only processors has been deprecated. Intel oneAPI Math Kernel Library 2025.0 will require Intel(R) Advanced Vector Extensions (Intel(R) AVX) instructions.\n"
     ]
    }
   ],
   "source": [
    "import matplotlib.pyplot as plt\n",
    "import numpy as np\n",
    "\n",
    "import astropy\n",
    "\n",
    "import sunpy\n",
    "import sunpy.map\n",
    "import sunpy_soar\n",
    "from sunpy.net import Fido, attrs as a\n",
    "\n",
    "import astropy.units as u"
   ]
  },
  {
   "cell_type": "markdown",
   "id": "ac40dd38-7f48-4d42-94c1-189426605301",
   "metadata": {},
   "source": [
    "---\n",
    "\n",
    "## Retriving the data\n",
    "\n",
    "### EUI"
   ]
  },
  {
   "cell_type": "code",
   "execution_count": 16,
   "id": "66321313-22aa-49b3-b660-6a856d9b57fc",
   "metadata": {},
   "outputs": [
    {
     "name": "stdout",
     "output_type": "stream",
     "text": [
      "Results from 1 Provider:\n",
      "\n",
      "600 Results from the SOARClient:\n",
      "\n",
      "Instrument     Data product    Level ... Filesize               SOOP Name               \n",
      "                                     ...  Mbyte                                         \n",
      "---------- ------------------- ----- ... -------- --------------------------------------\n",
      "       EUI eui-hrieuv174-image    L2 ...    5.291 L_SMALL_HRES_HCAD_Slow-Wind-Connection\n",
      "       EUI eui-hrieuv174-image    L2 ...    5.132 L_SMALL_HRES_HCAD_Slow-Wind-Connection\n",
      "       EUI eui-hrieuv174-image    L2 ...     5.17 L_SMALL_HRES_HCAD_Slow-Wind-Connection\n",
      "       EUI eui-hrieuv174-image    L2 ...    5.152 L_SMALL_HRES_HCAD_Slow-Wind-Connection\n",
      "       EUI eui-hrieuv174-image    L2 ...    5.149 L_SMALL_HRES_HCAD_Slow-Wind-Connection\n",
      "       ...                 ...   ... ...      ...                                    ...\n",
      "       EUI eui-hrieuv174-image    L2 ...    5.524 L_SMALL_HRES_HCAD_Slow-Wind-Connection\n",
      "       EUI eui-hrieuv174-image    L2 ...    5.196 L_SMALL_HRES_HCAD_Slow-Wind-Connection\n",
      "       EUI eui-hrieuv174-image    L2 ...    5.279 L_SMALL_HRES_HCAD_Slow-Wind-Connection\n",
      "       EUI eui-hrieuv174-image    L2 ...    5.253 L_SMALL_HRES_HCAD_Slow-Wind-Connection\n",
      "       EUI eui-hrieuv174-image    L2 ...    5.273 L_SMALL_HRES_HCAD_Slow-Wind-Connection\n",
      "       EUI eui-hrieuv174-image    L2 ...     5.25 L_SMALL_HRES_HCAD_Slow-Wind-Connection\n",
      "Length = 600 rows\n",
      "\n",
      "\n"
     ]
    }
   ],
   "source": [
    "# EUI\n",
    "instrument = a.Instrument('EUI')\n",
    "time = a.Time('2022-03-05 15:20:00', '2022-03-05 16:10:00')\n",
    "level = a.Level(2)\n",
    "product = a.soar.Product('eui-hrieuv174-image')  # changed from all caps to no caps\n",
    "\n",
    "eui_result = Fido.search(instrument & time & level & product)\n",
    "print(eui_result)"
   ]
  },
  {
   "cell_type": "markdown",
   "id": "57100d8b-573c-4c42-a966-0a91cb6342cc",
   "metadata": {},
   "source": [
    "Let's download the EUI files we queried for"
   ]
  },
  {
   "cell_type": "code",
   "execution_count": 17,
   "id": "3d21bc92-b00a-45d4-bb6f-aaa510bc25f8",
   "metadata": {},
   "outputs": [
    {
     "data": {
      "application/vnd.jupyter.widget-view+json": {
       "model_id": "f020857079f448e8ad1a2f97ec509e0a",
       "version_major": 2,
       "version_minor": 0
      },
      "text/plain": [
       "Files Downloaded:   0%|          | 0/600 [00:00<?, ?file/s]"
      ]
     },
     "metadata": {},
     "output_type": "display_data"
    }
   ],
   "source": [
    "eui_files = Fido.fetch(eui_result)"
   ]
  },
  {
   "cell_type": "code",
   "execution_count": 19,
   "id": "fbdc653d-475e-4869-8ab1-8a0b07cbc274",
   "metadata": {},
   "outputs": [],
   "source": [
    "sequence = sunpy.map.Map(eui_files, sequence=True)"
   ]
  },
  {
   "cell_type": "markdown",
   "id": "bfdb7bdc-35d9-4359-b359-852b7f8643de",
   "metadata": {},
   "source": [
    "### AIA"
   ]
  },
  {
   "cell_type": "code",
   "execution_count": 6,
   "id": "e2380025-5195-4e00-a212-612173da87f3",
   "metadata": {},
   "outputs": [
    {
     "name": "stdout",
     "output_type": "stream",
     "text": [
      "Results from 1 Provider:\n",
      "\n",
      "150 Results from the VSOClient:\n",
      "Source: http://vso.stanford.edu/cgi-bin/search\n",
      "Total estimated size: 10.168 Gbyte\n",
      "\n",
      "       Start Time               End Time        Source ... Extent Type   Size  \n",
      "                                                       ...              Mibyte \n",
      "----------------------- ----------------------- ------ ... ----------- --------\n",
      "2022-03-27 21:20:09.000 2022-03-27 21:20:10.000    SDO ...    FULLDISK 64.64844\n",
      "2022-03-27 21:20:21.000 2022-03-27 21:20:22.000    SDO ...    FULLDISK 64.64844\n",
      "2022-03-27 21:20:33.000 2022-03-27 21:20:34.000    SDO ...    FULLDISK 64.64844\n",
      "2022-03-27 21:20:45.000 2022-03-27 21:20:46.000    SDO ...    FULLDISK 64.64844\n",
      "2022-03-27 21:20:57.000 2022-03-27 21:20:58.000    SDO ...    FULLDISK 64.64844\n",
      "                    ...                     ...    ... ...         ...      ...\n",
      "2022-03-27 21:48:57.000 2022-03-27 21:48:58.000    SDO ...    FULLDISK 64.64844\n",
      "2022-03-27 21:49:09.000 2022-03-27 21:49:10.000    SDO ...    FULLDISK 64.64844\n",
      "2022-03-27 21:49:21.000 2022-03-27 21:49:22.000    SDO ...    FULLDISK 64.64844\n",
      "2022-03-27 21:49:33.000 2022-03-27 21:49:34.000    SDO ...    FULLDISK 64.64844\n",
      "2022-03-27 21:49:45.000 2022-03-27 21:49:46.000    SDO ...    FULLDISK 64.64844\n",
      "2022-03-27 21:49:57.000 2022-03-27 21:49:58.000    SDO ...    FULLDISK 64.64844\n",
      "Length = 150 rows\n",
      "\n",
      "\n"
     ]
    }
   ],
   "source": [
    "# AIA\n",
    "instrument = a.Instrument('AIA')\n",
    "wavelength = a.Wavelength(171*u.angstrom)  # 171 angstrom filter\n",
    "\n",
    "aia_result = Fido.search(instrument & time & wavelength)\n",
    "print(aia_result)"
   ]
  },
  {
   "cell_type": "code",
   "execution_count": 7,
   "id": "bc3d1bca-41ed-44ca-a69b-2f47e814dc94",
   "metadata": {},
   "outputs": [
    {
     "data": {
      "application/vnd.jupyter.widget-view+json": {
       "model_id": "6432091b22c84bfe9159058ba1286e53",
       "version_major": 2,
       "version_minor": 0
      },
      "text/plain": [
       "Files Downloaded:   0%|          | 0/150 [00:00<?, ?file/s]"
      ]
     },
     "metadata": {},
     "output_type": "display_data"
    },
    {
     "data": {
      "application/vnd.jupyter.widget-view+json": {
       "model_id": "",
       "version_major": 2,
       "version_minor": 0
      },
      "text/plain": [
       "aia_lev1_171a_2022_03_27t21_20_45_35z_image_lev1.fits:   0%|          | 0.00/11.8M [00:00<?, ?B/s]"
      ]
     },
     "metadata": {},
     "output_type": "display_data"
    },
    {
     "data": {
      "application/vnd.jupyter.widget-view+json": {
       "model_id": "12a0a22beddb4f9ca83053ce09086648",
       "version_major": 2,
       "version_minor": 0
      },
      "text/plain": [
       "aia_lev1_171a_2022_03_27t21_20_21_35z_image_lev1.fits:   0%|          | 0.00/11.8M [00:00<?, ?B/s]"
      ]
     },
     "metadata": {},
     "output_type": "display_data"
    },
    {
     "data": {
      "application/vnd.jupyter.widget-view+json": {
       "model_id": "6489a520a5f547f1a80b27c0a7b6b71d",
       "version_major": 2,
       "version_minor": 0
      },
      "text/plain": [
       "aia_lev1_171a_2022_03_27t21_20_57_35z_image_lev1.fits:   0%|          | 0.00/11.8M [00:00<?, ?B/s]"
      ]
     },
     "metadata": {},
     "output_type": "display_data"
    },
    {
     "data": {
      "application/vnd.jupyter.widget-view+json": {
       "model_id": "aec8923536fb4153bee209dee7c85ef8",
       "version_major": 2,
       "version_minor": 0
      },
      "text/plain": [
       "aia_lev1_171a_2022_03_27t21_20_33_35z_image_lev1.fits:   0%|          | 0.00/11.8M [00:00<?, ?B/s]"
      ]
     },
     "metadata": {},
     "output_type": "display_data"
    },
    {
     "data": {
      "application/vnd.jupyter.widget-view+json": {
       "model_id": "e902176dc73244c88c0e670208d0cb2d",
       "version_major": 2,
       "version_minor": 0
      },
      "text/plain": [
       "aia_lev1_171a_2022_03_27t21_20_09_35z_image_lev1.fits:   0%|          | 0.00/11.8M [00:00<?, ?B/s]"
      ]
     },
     "metadata": {},
     "output_type": "display_data"
    },
    {
     "name": "stdout",
     "output_type": "stream",
     "text": [
      "5/0 files failed to download. Please check `.errors` for details\n"
     ]
    }
   ],
   "source": [
    "aia_files = Fido.fetch(aia_result)"
   ]
  },
  {
   "cell_type": "markdown",
   "id": "5170024a-b28d-44ed-9c76-3d0e00947492",
   "metadata": {},
   "source": []
  },
  {
   "cell_type": "code",
   "execution_count": null,
   "id": "a9e851e7-3a8b-4e89-9f93-2624021606b9",
   "metadata": {},
   "outputs": [],
   "source": []
  }
 ],
 "metadata": {
  "kernelspec": {
   "display_name": "Python 3 (ipykernel)",
   "language": "python",
   "name": "python3"
  },
  "language_info": {
   "codemirror_mode": {
    "name": "ipython",
    "version": 3
   },
   "file_extension": ".py",
   "mimetype": "text/x-python",
   "name": "python",
   "nbconvert_exporter": "python",
   "pygments_lexer": "ipython3",
   "version": "3.10.12"
  }
 },
 "nbformat": 4,
 "nbformat_minor": 5
}
