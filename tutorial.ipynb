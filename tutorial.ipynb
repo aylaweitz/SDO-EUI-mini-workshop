{
 "cells": [
  {
   "cell_type": "markdown",
   "id": "15bffbc2-2cc6-4efc-8f8e-d744ef6c5a37",
   "metadata": {},
   "source": [
    "# SDO/AIA and Solar Orbiter/EUI alignment tutorial\n",
    "\n",
    "In this tutorial, we will\n",
    "\n",
    "- Retrive HRI EUV 174 EUI data and AIA data using [Fido](https://docs.sunpy.org/en/stable/generated/api/sunpy.net.Fido.html#sunpy.net.Fido)\n",
    "- Correct for 'jitter' in EUI images\n",
    "- align aia/eui images in time (account for timing delay)\n",
    "- use wcs to align in space\n",
    "- for small scale, may need to apply additional correction\n",
    "\n",
    "----\n",
    "\n",
    "Before jumping in, we first need to import the necessary packages. The cell should have no issues running if your conda environment is setup correctly or if you're running this notebook externally via Binder."
   ]
  },
  {
   "cell_type": "code",
   "execution_count": null,
   "id": "98e7bb4a-2832-4fd2-bad2-70d217645835",
   "metadata": {},
   "outputs": [],
   "source": [
    "import matplotlib.pyplot as plt\n",
    "import numpy as np\n",
    "\n",
    "import astropy\n",
    "\n",
    "import sunpy\n",
    "import sunpy.map\n",
    "import sunpy_soar\n",
    "from sunpy.net import Fido, attrs as a\n",
    "\n",
    "import astropy.units as u"
   ]
  },
  {
   "cell_type": "markdown",
   "id": "ac40dd38-7f48-4d42-94c1-189426605301",
   "metadata": {},
   "source": [
    "---\n",
    "\n",
    "First let's retrieve the data using SunPy's Fido! We'll be working with a short HRIEUV time series on March 5th 2022.\n",
    "\n",
    "(have alternative for reading in FITS files to sunpy maps?)\n"
   ]
  },
  {
   "cell_type": "code",
   "execution_count": null,
   "id": "66321313-22aa-49b3-b660-6a856d9b57fc",
   "metadata": {},
   "outputs": [],
   "source": [
    "# EUI\n",
    "instrument = a.Instrument('EUI')\n",
    "\n",
    "time = a.Time('2022-03-05 15:20:00', '2022-03-05 15:21:00')\n",
    "\n",
    "level = a.Level(2)\n",
    "\n",
    "product = a.soar.Product('eui-hrieuv174-image')\n",
    "\n",
    "eui_result = Fido.search(instrument & time & level & product)\n",
    "\n",
    "# print out the files found\n",
    "print(eui_result)"
   ]
  },
  {
   "cell_type": "markdown",
   "id": "57100d8b-573c-4c42-a966-0a91cb6342cc",
   "metadata": {},
   "source": [
    "Let's download the EUI files we queried for"
   ]
  },
  {
   "cell_type": "code",
   "execution_count": null,
   "id": "d6013b5d-01d0-4be3-85c4-fbbb3e2c3d20",
   "metadata": {},
   "outputs": [],
   "source": [
    "# fetch the data files\n",
    "eui_files = Fido.fetch(eui_result)\n",
    "\n",
    "# read the data files in as a sequence of SunPy maps\n",
    "sunpy.map.Map(eui_files, sequence=True)"
   ]
  },
  {
   "cell_type": "markdown",
   "id": "725a0448-f317-4207-8e12-5ec8a6f15285",
   "metadata": {},
   "source": [
    "Now that we have our data as Sunpy maps, we can easily make a movie"
   ]
  },
  {
   "cell_type": "code",
   "execution_count": null,
   "id": "2c56d8ce-ae52-461a-9aae-6a65b7d8259e",
   "metadata": {},
   "outputs": [],
   "source": [
    "##### Movie ####"
   ]
  },
  {
   "cell_type": "markdown",
   "id": "965094c6-6aef-4127-b8b5-35a4491b23f7",
   "metadata": {},
   "source": [
    "... we see some jitter. How can we correct this? Cross correlation"
   ]
  },
  {
   "cell_type": "code",
   "execution_count": null,
   "id": "f8792046-0c80-4d64-8949-7fa850cd711f",
   "metadata": {},
   "outputs": [],
   "source": [
    "#### cross correlate ####"
   ]
  },
  {
   "cell_type": "markdown",
   "id": "b45d6bc5-5322-4f12-965e-4dd18103b16f",
   "metadata": {},
   "source": [
    "Let's play the movie again"
   ]
  },
  {
   "cell_type": "code",
   "execution_count": null,
   "id": "0379d968-b6be-45de-ae7a-578d31e6b935",
   "metadata": {},
   "outputs": [],
   "source": [
    "#### movie ####"
   ]
  },
  {
   "cell_type": "markdown",
   "id": "5a0e4886-351c-45b8-9d8d-0618f949750b",
   "metadata": {},
   "source": [
    "Great, now the EUI pointing it consistent with itself!\n",
    "\n",
    "---\n",
    "\n",
    "Now let's bring in AIA data! Before downloading, we have to consider the fact that EUI is at a different distance from the Sun than SDO. We have to consider this timing offset when querying for AIA data"
   ]
  },
  {
   "cell_type": "code",
   "execution_count": null,
   "id": "c27345f1-1da1-4028-82f8-d84c5d914e4b",
   "metadata": {},
   "outputs": [],
   "source": [
    "### calculate timing offset ####\n",
    "\n",
    "# start_time_aia\n",
    "# end_time_aia"
   ]
  },
  {
   "cell_type": "markdown",
   "id": "118c6496-35aa-4232-b552-43546210dece",
   "metadata": {},
   "source": [
    "Now we have everything in terms of a 1 AU detection time -- we'll use these times to query for AIA data. For comparison purposes, we'll retrieve 171 $\\AA$ data since it's a similar channel as HRIEUV's 174 $\\AA$ channel"
   ]
  },
  {
   "cell_type": "code",
   "execution_count": null,
   "id": "e2380025-5195-4e00-a212-612173da87f3",
   "metadata": {},
   "outputs": [],
   "source": [
    "# AIA\n",
    "\n",
    "# include new timing\n",
    "\n",
    "instrument = a.Instrument('AIA')\n",
    "wavelength = a.Wavelength(171*u.angstrom)  # 171 angstrom filter\n",
    "\n",
    "aia_result = Fido.search(instrument & time & wavelength)\n",
    "print(aia_result)"
   ]
  },
  {
   "cell_type": "code",
   "execution_count": null,
   "id": "bc3d1bca-41ed-44ca-a69b-2f47e814dc94",
   "metadata": {},
   "outputs": [],
   "source": [
    "# fetch the data files\n",
    "aia_files = Fido.fetch(aia_result)\n",
    "\n",
    "# read the data files in as a sequence of SunPy maps\n",
    "sunpy.map.Map(aia_files, sequence=True)"
   ]
  },
  {
   "cell_type": "markdown",
   "id": "5170024a-b28d-44ed-9c76-3d0e00947492",
   "metadata": {},
   "source": [
    "Now we have our AIA data as SunPy maps!"
   ]
  },
  {
   "cell_type": "code",
   "execution_count": 1,
   "id": "a9e851e7-3a8b-4e89-9f93-2624021606b9",
   "metadata": {},
   "outputs": [],
   "source": [
    "#### movie"
   ]
  },
  {
   "cell_type": "markdown",
   "id": "14df0724-47ac-44e4-8e89-4ec2b662606d",
   "metadata": {},
   "source": [
    "In order to align our AIA 171 \\AA data with our EUI 174 \\AA data, we'll use SunPy's reproject function:"
   ]
  },
  {
   "cell_type": "code",
   "execution_count": null,
   "id": "4d88be3e-c4ba-48bd-a59b-1ace73c56c59",
   "metadata": {},
   "outputs": [],
   "source": [
    "#### reproject\n",
    "\n",
    "# show"
   ]
  },
  {
   "cell_type": "markdown",
   "id": "3a9a6d8a-8ecb-4b77-8a52-58de608029e3",
   "metadata": {},
   "source": [
    "This does a decent job! But let's say we're interested in small-scale features, let's zoom in..."
   ]
  },
  {
   "cell_type": "code",
   "execution_count": null,
   "id": "bab2a83a-50c3-459e-a45a-1530c38a5493",
   "metadata": {},
   "outputs": [],
   "source": [
    "#### zoom in to small feature\n",
    "\n",
    "### see that it isn't super well-aligned"
   ]
  },
  {
   "cell_type": "markdown",
   "id": "1ef70f6c-a4e3-4903-baf5-06a470ff54dd",
   "metadata": {},
   "source": [
    "On large scales, the built-in SunPy alignment looks good. But when we zoom in, we see that it's pretty off.\n",
    "\n",
    "A way to go about fixing this is to use cross-correlation. .. not full fov ..."
   ]
  },
  {
   "cell_type": "code",
   "execution_count": null,
   "id": "4266bb02-12b4-47b6-9396-fcfb06fd2b19",
   "metadata": {},
   "outputs": [],
   "source": [
    "### cross correlate\n",
    "\n",
    "## apply shifts -- sunpy 'apply_shifts'\n",
    "\n",
    "### zoom in"
   ]
  },
  {
   "cell_type": "markdown",
   "id": "5d060eab-9a8b-4b20-a59d-0772ad471bd9",
   "metadata": {},
   "source": [
    "Now the alignment is even better!\n",
    "\n",
    "---\n",
    "\n",
    "Woohoo! We have AIA and EUI well aligned! But what if we wanted to throw IRIS data into the mix... we can retrieve IRIS data the same way we did for EUI and AIA."
   ]
  },
  {
   "cell_type": "code",
   "execution_count": null,
   "id": "7460ed6b-7b91-46c7-bd4b-62c6152902b4",
   "metadata": {},
   "outputs": [],
   "source": [
    "### pull iris data"
   ]
  },
  {
   "cell_type": "code",
   "execution_count": null,
   "id": "dde03941-aea7-47fa-9b33-9d35857be0cc",
   "metadata": {},
   "outputs": [],
   "source": [
    "## movie"
   ]
  },
  {
   "cell_type": "code",
   "execution_count": null,
   "id": "1392809c-7375-4d90-80ff-9ade8f58675e",
   "metadata": {},
   "outputs": [],
   "source": [
    "### sunpy reproject to align"
   ]
  },
  {
   "cell_type": "code",
   "execution_count": null,
   "id": "97b5ff88-2327-4148-b768-d714ea2be0d6",
   "metadata": {},
   "outputs": [],
   "source": [
    "### zoom in. well aligned?"
   ]
  },
  {
   "cell_type": "markdown",
   "id": "5e2eed1a-0776-4556-b983-11a1e29dd043",
   "metadata": {},
   "source": [
    "... ensure that IRIS is well aligned we'll need to pull in AIA data at a similar channel and cross-correlate"
   ]
  },
  {
   "cell_type": "code",
   "execution_count": null,
   "id": "6a720dbf-9ba1-4907-8307-87818f369c24",
   "metadata": {},
   "outputs": [],
   "source": [
    "### pull aia 1600\n",
    "\n",
    "### cross correlate w iris 1400\n",
    "\n",
    "### zoom in -- better!"
   ]
  },
  {
   "cell_type": "markdown",
   "id": "27e2004f-4d70-4ca4-93fa-be92a046ab37",
   "metadata": {},
   "source": [
    "Now we have well-aligned data among 3 instruments!"
   ]
  },
  {
   "cell_type": "code",
   "execution_count": null,
   "id": "1fdfa3c8-d464-4a81-a262-936c39e0f03d",
   "metadata": {},
   "outputs": [],
   "source": []
  }
 ],
 "metadata": {
  "kernelspec": {
   "display_name": "Python 3 (ipykernel)",
   "language": "python",
   "name": "python3"
  },
  "language_info": {
   "codemirror_mode": {
    "name": "ipython",
    "version": 3
   },
   "file_extension": ".py",
   "mimetype": "text/x-python",
   "name": "python",
   "nbconvert_exporter": "python",
   "pygments_lexer": "ipython3",
   "version": "3.10.12"
  }
 },
 "nbformat": 4,
 "nbformat_minor": 5
}
